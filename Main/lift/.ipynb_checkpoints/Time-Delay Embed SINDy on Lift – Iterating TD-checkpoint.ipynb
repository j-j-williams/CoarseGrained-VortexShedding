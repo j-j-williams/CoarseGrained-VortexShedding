{
 "cells": [
  {
   "cell_type": "code",
   "execution_count": 1,
   "metadata": {},
   "outputs": [],
   "source": [
    "###  Import modules\n",
    "\n",
    "import numpy as np\n",
    "# import scipy.io as sio\n",
    "import matplotlib.pyplot as plt\n",
    "import pysindy as ps\n",
    "\n"
   ]
  },
  {
   "cell_type": "code",
   "execution_count": 2,
   "metadata": {},
   "outputs": [
    {
     "data": {
      "application/javascript": [
       "require(\"notebook/js/notebook\").Notebook.prototype.scroll_to_bottom = function () {}\n"
      ],
      "text/plain": [
       "<IPython.core.display.Javascript object>"
      ]
     },
     "metadata": {},
     "output_type": "display_data"
    }
   ],
   "source": [
    "%%javascript\n",
    "require(\"notebook/js/notebook\").Notebook.prototype.scroll_to_bottom = function () {}"
   ]
  },
  {
   "cell_type": "code",
   "execution_count": 3,
   "metadata": {},
   "outputs": [],
   "source": [
    "###  Set filename and pathname\n",
    "\n",
    "\n",
    "# Re = 50\n",
    "# t_trm_1 = 24750\n",
    "# t_trm_2 = 49750\n",
    "# TD_Embed_a = -3.20\n",
    "# TD_Embed_b = 3.20\n",
    "# tde_mult=2\n",
    "\n",
    "\n",
    "# Re = 62\n",
    "# TD_Embed_a = -2.00\n",
    "# TD_Embed_b = 2.00\n",
    "# t_trm_1 = 7500\n",
    "# t_trm_2 = 22500\n",
    "# tde_mult=1\n",
    "\n",
    "\n",
    "# Re = 75\n",
    "# TD_Embed_a = -1.80\n",
    "# TD_Embed_b = 1.80\n",
    "# t_trm_1 = 5000\n",
    "# t_trm_2 = 17500\n",
    "# tde_mult=1\n",
    "\n",
    "\n",
    "# Re = 87\n",
    "\n",
    "# # t_trm_1 = 0\n",
    "# # t_trm_2 = -1\n",
    "\n",
    "# # t_trm_1 = 0\n",
    "# # t_trm_2 = 10000\n",
    "\n",
    "# t_trm_1 = 2500\n",
    "# t_trm_2 = 15000\n",
    "\n",
    "\n",
    "\n",
    "\n",
    "Re = 100\n",
    "TD_Embed_a = -2.00\n",
    "TD_Embed_b = 2.00\n",
    "t_trm_1 = 4000\n",
    "t_trm_2 = 12000\n",
    "tde_mult=1\n",
    "\n",
    "\n",
    "\n"
   ]
  },
  {
   "cell_type": "code",
   "execution_count": 4,
   "metadata": {},
   "outputs": [],
   "source": [
    "###  Time-Delay Embedding Parameters\n",
    "\n",
    "# TD_Embed_a = 0.10\n",
    "# TD_Embed_b = 3.90\n",
    "\n",
    "\n",
    "TD_Embed_n = int( (TD_Embed_b - TD_Embed_a) / (0.02 * tde_mult) + 1 )\n",
    "\n",
    "TD_Embed_vec = np.linspace(TD_Embed_a , TD_Embed_b , TD_Embed_n, endpoint=True)\n",
    "\n",
    "\n",
    "\n",
    "\n",
    "###  SINDy Parameters\n",
    "\n",
    "threshold              = 0.0\n",
    "\n",
    "differentiation_method = ps.FiniteDifference(order=2)\n",
    "feature_library        = ps.PolynomialLibrary(degree=3)\n",
    "optimizer              = ps.STLSQ(threshold=threshold)\n",
    "\n",
    "\n",
    "###  Other parameters\n",
    "\n",
    "should_normalize = True\n",
    "\n"
   ]
  },
  {
   "cell_type": "code",
   "execution_count": 5,
   "metadata": {},
   "outputs": [
    {
     "data": {
      "text/plain": [
       "array([-2.  , -1.98, -1.96, -1.94, -1.92, -1.9 , -1.88, -1.86, -1.84,\n",
       "       -1.82, -1.8 , -1.78, -1.76, -1.74, -1.72, -1.7 , -1.68, -1.66,\n",
       "       -1.64, -1.62, -1.6 , -1.58, -1.56, -1.54, -1.52, -1.5 , -1.48,\n",
       "       -1.46, -1.44, -1.42, -1.4 , -1.38, -1.36, -1.34, -1.32, -1.3 ,\n",
       "       -1.28, -1.26, -1.24, -1.22, -1.2 , -1.18, -1.16, -1.14, -1.12,\n",
       "       -1.1 , -1.08, -1.06, -1.04, -1.02, -1.  , -0.98, -0.96, -0.94,\n",
       "       -0.92, -0.9 , -0.88, -0.86, -0.84, -0.82, -0.8 , -0.78, -0.76,\n",
       "       -0.74, -0.72, -0.7 , -0.68, -0.66, -0.64, -0.62, -0.6 , -0.58,\n",
       "       -0.56, -0.54, -0.52, -0.5 , -0.48, -0.46, -0.44, -0.42, -0.4 ,\n",
       "       -0.38, -0.36, -0.34, -0.32, -0.3 , -0.28, -0.26, -0.24, -0.22,\n",
       "       -0.2 , -0.18, -0.16, -0.14, -0.12, -0.1 , -0.08, -0.06, -0.04,\n",
       "       -0.02,  0.  ,  0.02,  0.04,  0.06,  0.08,  0.1 ,  0.12,  0.14,\n",
       "        0.16,  0.18,  0.2 ,  0.22,  0.24,  0.26,  0.28,  0.3 ,  0.32,\n",
       "        0.34,  0.36,  0.38,  0.4 ,  0.42,  0.44,  0.46,  0.48,  0.5 ,\n",
       "        0.52,  0.54,  0.56,  0.58,  0.6 ,  0.62,  0.64,  0.66,  0.68,\n",
       "        0.7 ,  0.72,  0.74,  0.76,  0.78,  0.8 ,  0.82,  0.84,  0.86,\n",
       "        0.88,  0.9 ,  0.92,  0.94,  0.96,  0.98,  1.  ,  1.02,  1.04,\n",
       "        1.06,  1.08,  1.1 ,  1.12,  1.14,  1.16,  1.18,  1.2 ,  1.22,\n",
       "        1.24,  1.26,  1.28,  1.3 ,  1.32,  1.34,  1.36,  1.38,  1.4 ,\n",
       "        1.42,  1.44,  1.46,  1.48,  1.5 ,  1.52,  1.54,  1.56,  1.58,\n",
       "        1.6 ,  1.62,  1.64,  1.66,  1.68,  1.7 ,  1.72,  1.74,  1.76,\n",
       "        1.78,  1.8 ,  1.82,  1.84,  1.86,  1.88,  1.9 ,  1.92,  1.94,\n",
       "        1.96,  1.98,  2.  ])"
      ]
     },
     "execution_count": 5,
     "metadata": {},
     "output_type": "execute_result"
    }
   ],
   "source": [
    "TD_Embed_vec"
   ]
  },
  {
   "cell_type": "code",
   "execution_count": 6,
   "metadata": {},
   "outputs": [],
   "source": [
    "### "
   ]
  },
  {
   "cell_type": "code",
   "execution_count": 7,
   "metadata": {},
   "outputs": [],
   "source": [
    "###  Set loading strings\n",
    "\n",
    "stem = '/Users/josephwilliams/Documents/Data_Results/Coarse-Grained-Vortex-Shedding/Vortex Shedding Data/Coefficients of Lift, Drag/'\n",
    "filename = stem + 'Re' + str(Re) + '/ibpm.force'\n",
    "\n"
   ]
  },
  {
   "cell_type": "code",
   "execution_count": 8,
   "metadata": {},
   "outputs": [],
   "source": [
    "###  Load data\n",
    "\n",
    "data = np.genfromtxt(filename, dtype=\"f8\", delimiter=\" \")\n",
    "t =   data[t_trm_1 : t_trm_2, 1]\n",
    "C_l = data[t_trm_1 : t_trm_2, 3]\n",
    "C_d = data[t_trm_1 : t_trm_2, 2]\n",
    "\n",
    "# normalize\n",
    "if should_normalize == True: C_l = C_l / np.max(np.abs(C_l))\n",
    "\n",
    "# adjust t\n",
    "t = t-t[0]\n",
    "\n",
    "# Derived quantites\n",
    "dt = t[1]-t[0]\n",
    "\n",
    " \n",
    "\n",
    "\n"
   ]
  },
  {
   "cell_type": "code",
   "execution_count": null,
   "metadata": {},
   "outputs": [],
   "source": []
  },
  {
   "cell_type": "code",
   "execution_count": null,
   "metadata": {},
   "outputs": [],
   "source": []
  },
  {
   "cell_type": "code",
   "execution_count": null,
   "metadata": {},
   "outputs": [],
   "source": []
  },
  {
   "cell_type": "code",
   "execution_count": 9,
   "metadata": {},
   "outputs": [],
   "source": [
    "###  "
   ]
  },
  {
   "cell_type": "code",
   "execution_count": 10,
   "metadata": {},
   "outputs": [],
   "source": [
    "# ###  Plot the data\n",
    "\n",
    "\n",
    "# # Both on 1 plot\n",
    "# plt.figure()\n",
    "# plt.plot(t_Ovlp, data_1,  linewidth=3, color='b' , label='$C_l(t_1)$' ) # \n",
    "# plt.plot(t_Ovlp, data_2,  linewidth=3, color='g' , label='$C_l(t_2)$' ) # \n",
    "# plt.xlabel('t', fontsize=20)\n",
    "# plt.ylabel('Signal', fontsize=20)\n",
    "# plt.legend(fontsize=14)\n",
    "# plt.show()\n",
    "\n",
    "\n",
    "# # 2 Separate plots \n",
    "# plt.figure(figsize=(16, 4))\n",
    "# ttl_str = r'$C_l(t_1)$ and $C_l(t_2)$, Re = ' + str(Re)\n",
    "# plt.suptitle(ttl_str, fontsize=20, horizontalalignment='center')\n",
    "\n",
    "# plt.subplot(1, 2, 1)\n",
    "# plt.plot(t_Ovlp, data_1,  linewidth=3, color='r') # \n",
    "# plt.xlabel('t', fontsize=20)\n",
    "# plt.ylabel('$C_l(t_1)$', fontsize=20)\n",
    "\n",
    "# plt.subplot(1, 2, 2)\n",
    "# plt.plot(t_Ovlp, data_2,  linewidth=3, color='r') # \n",
    "# plt.xlabel('t', fontsize=20)\n",
    "# plt.ylabel('$C_l(t_2)$', fontsize=20)\n",
    "\n",
    "# plt.show()\n",
    "\n",
    "\n",
    "# # Phase space\n",
    "# plt.figure()\n",
    "# plt.plot(data_1, data_2,  linewidth=3, color='r') # \n",
    "# plt.xlabel('$C_l(t_1)$', fontsize=20)\n",
    "# plt.ylabel('$C_l(t_2)$', fontsize=20)\n",
    "# ttl_str = 'Phase Space of [$C_l(t_1)$, $C_l(t_2)$], Re = ' + str(Re)\n",
    "# plt.title(ttl_str, fontsize=20)\n",
    "# plt.axis('equal')\n",
    "# plt.show()\n",
    "\n",
    "\n",
    "# # Drag\n",
    "# plt.figure(figsize=(16, 4))\n",
    "# plt.plot(t, C_d,  linewidth=3, color='r')\n",
    "# plt.xlabel('t', fontsize=20)\n",
    "# plt.ylabel('$C_d$', fontsize=20)\n",
    "# ttl_str = 'Coefficient of Drag, Re = ' + str(Re)\n",
    "# plt.title(ttl_str, fontsize=20, horizontalalignment='right')\n",
    "# plt.show()\n",
    "\n"
   ]
  },
  {
   "cell_type": "code",
   "execution_count": 11,
   "metadata": {},
   "outputs": [],
   "source": [
    "###  "
   ]
  },
  {
   "cell_type": "code",
   "execution_count": 12,
   "metadata": {},
   "outputs": [],
   "source": [
    "# Compare amplitudes of the two signals\n",
    "\n",
    "\n",
    "# print('')\n",
    "# print('Max of C_l(t_1) = ' + str(np.max(data_1)) )\n",
    "# print('Max of C_l(t_2) = ' + str(np.max(data_2)) )\n",
    "# print('\\n')\n",
    "\n"
   ]
  },
  {
   "cell_type": "code",
   "execution_count": 13,
   "metadata": {},
   "outputs": [],
   "source": [
    "###  "
   ]
  },
  {
   "cell_type": "code",
   "execution_count": null,
   "metadata": {},
   "outputs": [
    {
     "name": "stdout",
     "output_type": "stream",
     "text": [
      "Iteration  =  0  /  200\n",
      "Iteration  =  20  /  200\n",
      "Iteration  =  40  /  200\n",
      "Iteration  =  60  /  200\n"
     ]
    }
   ],
   "source": [
    "###  Initiate and run SINDy\n",
    "\n",
    "n_terms = 10\n",
    "\n",
    "\n",
    "NMSE_1 = np.zeros(( TD_Embed_n , ))\n",
    "NMSE_2 = np.zeros(( TD_Embed_n , ))\n",
    "\n",
    "\n",
    "Coefs_u1 = np.zeros(( TD_Embed_n , n_terms ))\n",
    "Coefs_u2 = np.zeros(( TD_Embed_n , n_terms ))\n",
    "\n",
    "\n",
    "\n",
    "feature_names = [\"x\", \"y\"]\n",
    "\n",
    "\n",
    "model = ps.SINDy(\n",
    "    differentiation_method=differentiation_method,\n",
    "    feature_library=feature_library,\n",
    "    optimizer=optimizer,\n",
    "    feature_names=feature_names,)\n",
    "\n",
    "\n",
    "\n",
    "for TD_Embed_iter in range ( TD_Embed_n ):\n",
    "    if np.mod(TD_Embed_iter , TD_Embed_n//10) == 0: print('Iteration  =  '+str(TD_Embed_iter)+'  /  '+str(TD_Embed_n-1))\n",
    "        ### Time-Delay Embed\n",
    "\n",
    "    TD_Embed = TD_Embed_vec[TD_Embed_iter]\n",
    "    \n",
    "#     t_1 = t\n",
    "#     t_2 = t+TD_Embed\n",
    "#     TD_Embed_Index = np.argmin( np.abs(t - TD_Embed) )\n",
    "#     TD_Embed_backendIndex = np.argmin( np.abs( t_2 - np.max(t_1) ) ) \n",
    "\n",
    "#     data_1 = C_l[TD_Embed_Index:-1 ]        # ; data_1 = data_1 / np.max(np.abs(data_1))\n",
    "#     data_2 = C_l[0:TD_Embed_backendIndex ]  # ; data_2 = data_2 / np.max(np.abs(data_2))\n",
    "#     t_Ovlp = t[TD_Embed_Index:-1]\n",
    "    \n",
    "    \n",
    "    TD_Embed_idx = int( TD_Embed / dt )\n",
    "\n",
    "    data_1 = data[t_trm_1 : t_trm_2, 3]\n",
    "    data_2 = data[t_trm_1 + TD_Embed_idx : t_trm_2 + TD_Embed_idx, 3]\n",
    "    t_Ovlp = data[t_trm_1 : t_trm_2, 1]\n",
    "    \n",
    "    data_1_dt = ps.FiniteDifference(axis=0)._differentiate(data_1   , dt)\n",
    "    data_2_dt = ps.FiniteDifference(axis=0)._differentiate(data_2   , dt)\n",
    "\n",
    "    \n",
    "\n",
    "#     X = np.asarray([data_1, data_2]).T\n",
    "#     model.fit(X, t=t_Ovlp)\n",
    "    \n",
    "    \n",
    "    subSamp_rate = 1\n",
    "#     subsampled_data = data_1[::subSamp_rate]\n",
    "    X = np.asarray([data_1[::subSamp_rate], data_2[::subSamp_rate]]).T\n",
    "    t_Ovlp = t_Ovlp[::subSamp_rate]\n",
    "    model.fit(X, t=t_Ovlp)\n",
    "    \n",
    "    coefs = model.coefficients()\n",
    "    \n",
    "    Coefs_u1[TD_Embed_iter , :] = coefs[0,:]\n",
    "    Coefs_u2[TD_Embed_iter , :] = coefs[1,:]\n",
    "\n",
    "#     print('')\n",
    "#     print('x = C_l(t_2)')\n",
    "#     print('y = C_l(t_1)')\n",
    "#     print('\\n')\n",
    "#     model.print(precision=4)\n",
    "#     print('\\n')\n",
    "#     model.print(precision=10)\n",
    "#     print('\\n')\n",
    "\n",
    "\n",
    "    # Numerical solution\n",
    "    X0 = X[0,:]\n",
    "    x_test_sim = model.simulate(X0, t_Ovlp , integrator_kws={'atol': 1e-6, 'method': 'RK45', 'rtol': 1e-6})  # \n",
    "#     error_1 = data_1 - x_test_sim[:,0]\n",
    "#     error_2 = data_2 - x_test_sim[:,1]\n",
    "    error_1 = X[:,0] - x_test_sim[:,0]\n",
    "    error_2 = X[:,1] - x_test_sim[:,1]\n",
    "\n",
    "    NMSE_1[TD_Embed_iter] = np.sqrt( np.sum(error_1**2) / np.sum(data_1**2) )\n",
    "    NMSE_2[TD_Embed_iter] = np.sqrt( np.sum(error_2**2) / np.sum(data_2**2) )\n",
    "\n"
   ]
  },
  {
   "cell_type": "code",
   "execution_count": null,
   "metadata": {},
   "outputs": [],
   "source": [
    "###  "
   ]
  },
  {
   "cell_type": "code",
   "execution_count": null,
   "metadata": {},
   "outputs": [],
   "source": [
    "###  Compute system NRMSE\n",
    "\n",
    "\n",
    "NRMSE_Sys = np.sqrt( NMSE_1**2 + NMSE_2**2 ) \n",
    "\n",
    "\n",
    "##  Hard-coded  system NRMSE  under d/dt instead of TDE  from other script\n",
    "\n",
    "\n",
    "# NRMSE_ddt_SS10 = 0.17077545133842303\n",
    "# NRMSE_ddt_SS5  = 0.6596021483035351\n",
    "\n",
    "\n",
    "\n",
    "Re50__NRMSE_ddt_SS5  =  0.6719724810710019\n",
    "\n",
    "Re62__NRMSE_ddt_SS5  =  1.0648627840489906\n",
    "\n",
    "Re75__NRMSE_ddt_SS5  =  0.3355372603389323\n",
    "\n",
    "\n",
    "Re100__NRMSE_ddt_SS1 =  2.4745520210339778\n",
    "\n",
    "\n",
    "\n"
   ]
  },
  {
   "cell_type": "code",
   "execution_count": null,
   "metadata": {},
   "outputs": [],
   "source": [
    "### "
   ]
  },
  {
   "cell_type": "code",
   "execution_count": null,
   "metadata": {},
   "outputs": [],
   "source": [
    "# plt.plot(x_test_sim[:,0])\n",
    "plt.plot(x_test_sim[:,1])"
   ]
  },
  {
   "cell_type": "code",
   "execution_count": null,
   "metadata": {},
   "outputs": [],
   "source": [
    "TD_Embed_vec"
   ]
  },
  {
   "cell_type": "code",
   "execution_count": null,
   "metadata": {},
   "outputs": [],
   "source": [
    "\n",
    "# NRMSE_ddt_SS5 = Re50__NRMSE_ddt_SS5\n",
    "\n",
    "\n",
    "# NRMSE_ddt_SS5 = Re62__NRMSE_ddt_SS5\n",
    "# point_remove = (NRMSE_Sys[int(TD_Embed_n/2)+2] + NRMSE_Sys[int(TD_Embed_n/2)-2])/2\n",
    "\n",
    "\n",
    "# NRMSE_ddt_SS5 = Re75__NRMSE_ddt_SS5\n",
    "# point_remove = (NRMSE_Sys[int(TD_Embed_n/2)+2] + NRMSE_Sys[int(TD_Embed_n/2)-2])/2\n",
    "\n",
    "\n",
    "NRMSE_ddt_SS5 = Re100__NRMSE_ddt_SS1\n",
    "\n",
    "\n",
    "plt.figure()\n",
    "plt.plot( TD_Embed_vec[:int(TD_Embed_n/2)-1]   , NRMSE_Sys[:int(TD_Embed_n/2)-1]   , 'b' , label='TDE' )\n",
    "plt.plot( TD_Embed_vec[3+int(TD_Embed_n/2):] , NRMSE_Sys[3+int(TD_Embed_n/2):] , 'b'  )\n",
    "# plt.plot( TD_Embed_vec[int(TD_Embed_n/2)], point_remove , 'bo', markersize=8, fillstyle='none' )\n",
    "\n",
    "plt.plot( [TD_Embed_vec[0],TD_Embed_vec[-1]] , [NRMSE_ddt_SS5,NRMSE_ddt_SS5] ,'k--' , label='d/dt' )\n",
    "\n",
    "\n",
    "plt.xlabel(r'$\\tau$' , fontsize=16)\n",
    "plt.ylabel('NRMSE' , fontsize=16)\n",
    "\n",
    "ttl_str = 'NRMSE vs. Time-Delay' + '\\nRe = ' + str(Re)\n",
    "plt.title(ttl_str , fontsize = 16)\n",
    "\n",
    "plt.xticks(fontsize=12)\n",
    "plt.yticks(fontsize=12)\n",
    "\n",
    "plt.legend(fontsize=16)\n",
    "\n",
    "plt.show()\n"
   ]
  },
  {
   "cell_type": "code",
   "execution_count": null,
   "metadata": {},
   "outputs": [],
   "source": []
  },
  {
   "cell_type": "code",
   "execution_count": null,
   "metadata": {},
   "outputs": [],
   "source": [
    "\n",
    "\n",
    "plt.figure()\n",
    "plt.plot( TD_Embed_vec , NRMSE_Sys, 'b' , label='TDE' )\n",
    "\n",
    "plt.plot( [TD_Embed_vec[0],TD_Embed_vec[-1]] , [NRMSE_ddt_SS5,NRMSE_ddt_SS5] ,'k--' , label='d/dt' )\n",
    "\n",
    "plt.xlabel(r'$\\tau$' , fontsize=16)\n",
    "plt.ylabel('NRMSE' , fontsize=16)\n",
    "\n",
    "ttl_str = 'NRMSE vs. Time-Delay' + '\\nRe = ' + str(Re)\n",
    "plt.title(ttl_str , fontsize = 16)\n",
    "\n",
    "plt.legend()\n",
    "\n",
    "plt.show()\n",
    "\n"
   ]
  },
  {
   "cell_type": "code",
   "execution_count": null,
   "metadata": {},
   "outputs": [],
   "source": []
  },
  {
   "cell_type": "code",
   "execution_count": null,
   "metadata": {},
   "outputs": [],
   "source": [
    "\n",
    "\n",
    "np.save('Re' + str( Re) + '_Coefs_u1.npy' , Coefs_u1)\n",
    "np.save('Re' + str( Re) + '_Coefs_u2.npy' , Coefs_u2)\n",
    "np.save('Re' + str( Re) + '_TD_Embed_vec' , TD_Embed_vec)\n",
    "np.save('Re' + str( Re) + '_NRMSE_Sys'    , NRMSE_Sys)\n",
    "\n",
    "\n",
    "np.save('Re' + str( Re) + '_t_trm_1.npy' , t_trm_1)\n",
    "np.save('Re' + str( Re) + '_t_trm_2.npy' , t_trm_2)\n",
    "np.save('Re' + str( Re) + '_tde_mult.npy' , tde_mult)\n",
    "\n",
    "\n"
   ]
  },
  {
   "cell_type": "code",
   "execution_count": null,
   "metadata": {},
   "outputs": [],
   "source": []
  },
  {
   "cell_type": "code",
   "execution_count": null,
   "metadata": {},
   "outputs": [],
   "source": []
  },
  {
   "cell_type": "code",
   "execution_count": null,
   "metadata": {},
   "outputs": [],
   "source": []
  },
  {
   "cell_type": "code",
   "execution_count": null,
   "metadata": {},
   "outputs": [],
   "source": []
  }
 ],
 "metadata": {
  "kernelspec": {
   "display_name": "Python 3",
   "language": "python",
   "name": "python3"
  },
  "language_info": {
   "codemirror_mode": {
    "name": "ipython",
    "version": 3
   },
   "file_extension": ".py",
   "mimetype": "text/x-python",
   "name": "python",
   "nbconvert_exporter": "python",
   "pygments_lexer": "ipython3",
   "version": "3.8.3"
  }
 },
 "nbformat": 4,
 "nbformat_minor": 4
}
