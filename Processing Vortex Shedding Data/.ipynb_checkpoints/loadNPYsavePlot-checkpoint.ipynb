{
 "cells": [
  {
   "cell_type": "code",
   "execution_count": 1,
   "metadata": {},
   "outputs": [],
   "source": [
    "###  Import modules\n",
    "\n",
    "\n",
    "import scipy.io as sio\n",
    "import numpy as np\n",
    "import matplotlib.pyplot as plt\n",
    "\n"
   ]
  },
  {
   "cell_type": "code",
   "execution_count": 2,
   "metadata": {},
   "outputs": [
    {
     "data": {
      "application/javascript": [
       "require(\"notebook/js/notebook\").Notebook.prototype.scroll_to_bottom = function () {}\n"
      ],
      "text/plain": [
       "<IPython.core.display.Javascript object>"
      ]
     },
     "metadata": {},
     "output_type": "display_data"
    }
   ],
   "source": [
    "%%javascript\n",
    "require(\"notebook/js/notebook\").Notebook.prototype.scroll_to_bottom = function () {}"
   ]
  },
  {
   "cell_type": "code",
   "execution_count": 4,
   "metadata": {},
   "outputs": [],
   "source": [
    "###  Set  loading string  and  t_plt\n",
    "\n",
    "\n",
    "# stem = '/Volumes/Backup Hard Drive/Holding Folder/Research/IBPM Simulations/Main Simulations/2022_06_21_Re050_Big_Prd/Data/'\n",
    "# stem = '/Volumes/Backup Hard Drive/Holding Folder/Research/IBPM Simulations/Main Simulations/2022_06_21_Re062_Big_Prd/Data/'\n",
    "# stem = '/Volumes/Backup Hard Drive/Holding Folder/Research/IBPM Simulations/Main Simulations/2022_06_21_Re075_Big_Prd/Data/'\n",
    "# stem = '/Volumes/Backup Hard Drive/Holding Folder/Research/IBPM Simulations/Main Simulations/2022_06_21_Re087_Big_Prd/Data/'\n",
    "# stem = '/Volumes/Backup Hard Drive/Holding Folder/Research/IBPM Simulations/Main Simulations/2022_06_21_Re100_Big_Prd/Data/'\n",
    "\n",
    "\n",
    "\n",
    "# stem = '/Volumes/Backup Hard Drive/Holding Folder/Research/IBPM Simulations/Main Simulations/2022_06_21_Re062_Big_Prd/Data/'\n",
    "\n",
    "str_runTitle = 'Re100-1'\n",
    "\n",
    "stem = '/Users/stevebrunton/Documents/ibpm-master/Lab iMac Sims/Re ' +str_runTitle+ '/Data/'\n",
    "\n"
   ]
  },
  {
   "cell_type": "code",
   "execution_count": null,
   "metadata": {},
   "outputs": [],
   "source": []
  },
  {
   "cell_type": "code",
   "execution_count": 6,
   "metadata": {},
   "outputs": [
    {
     "ename": "FileNotFoundError",
     "evalue": "[Errno 2] No such file or directory: '/Users/stevebrunton/Documents/ibpm-master/Lab iMac Sims/Re Re100-1/Data/U/'",
     "output_type": "error",
     "traceback": [
      "\u001b[0;31m---------------------------------------------------------------------------\u001b[0m",
      "\u001b[0;31mFileNotFoundError\u001b[0m                         Traceback (most recent call last)",
      "\u001b[0;32m<ipython-input-6-dfe6b7b7235d>\u001b[0m in \u001b[0;36m<module>\u001b[0;34m\u001b[0m\n\u001b[1;32m      2\u001b[0m \u001b[0;34m\u001b[0m\u001b[0m\n\u001b[1;32m      3\u001b[0m \u001b[0mdirectory\u001b[0m \u001b[0;34m=\u001b[0m \u001b[0mstem\u001b[0m \u001b[0;34m+\u001b[0m \u001b[0;34m'U/'\u001b[0m\u001b[0;34m\u001b[0m\u001b[0;34m\u001b[0m\u001b[0m\n\u001b[0;32m----> 4\u001b[0;31m \u001b[0mlen\u001b[0m\u001b[0;34m(\u001b[0m\u001b[0;34m[\u001b[0m\u001b[0mname\u001b[0m \u001b[0;32mfor\u001b[0m \u001b[0mname\u001b[0m \u001b[0;32min\u001b[0m \u001b[0mos\u001b[0m\u001b[0;34m.\u001b[0m\u001b[0mlistdir\u001b[0m\u001b[0;34m(\u001b[0m\u001b[0mdirectory\u001b[0m\u001b[0;34m)\u001b[0m \u001b[0;32mif\u001b[0m \u001b[0mos\u001b[0m\u001b[0;34m.\u001b[0m\u001b[0mpath\u001b[0m\u001b[0;34m.\u001b[0m\u001b[0misfile\u001b[0m\u001b[0;34m(\u001b[0m\u001b[0mos\u001b[0m\u001b[0;34m.\u001b[0m\u001b[0mpath\u001b[0m\u001b[0;34m.\u001b[0m\u001b[0mjoin\u001b[0m\u001b[0;34m(\u001b[0m\u001b[0mdirectory\u001b[0m\u001b[0;34m,\u001b[0m \u001b[0mname\u001b[0m\u001b[0;34m)\u001b[0m\u001b[0;34m)\u001b[0m\u001b[0;34m]\u001b[0m\u001b[0;34m)\u001b[0m\u001b[0;34m\u001b[0m\u001b[0;34m\u001b[0m\u001b[0m\n\u001b[0m",
      "\u001b[0;31mFileNotFoundError\u001b[0m: [Errno 2] No such file or directory: '/Users/stevebrunton/Documents/ibpm-master/Lab iMac Sims/Re Re100-1/Data/U/'"
     ]
    }
   ],
   "source": [
    "\n",
    "import os\n",
    "\n",
    "directory = stem + 'U/'\n",
    "N_plt = len([name for name in os.listdir(directory) if os.path.isfile(os.path.join(directory, name))])\n"
   ]
  },
  {
   "cell_type": "code",
   "execution_count": null,
   "metadata": {},
   "outputs": [],
   "source": []
  },
  {
   "cell_type": "code",
   "execution_count": 2,
   "metadata": {},
   "outputs": [
    {
     "ename": "NameError",
     "evalue": "name 'np' is not defined",
     "output_type": "error",
     "traceback": [
      "\u001b[0;31m---------------------------------------------------------------------------\u001b[0m",
      "\u001b[0;31mNameError\u001b[0m                                 Traceback (most recent call last)",
      "\u001b[0;32m<ipython-input-2-4dfd7a319dbf>\u001b[0m in \u001b[0;36m<module>\u001b[0;34m\u001b[0m\n\u001b[1;32m      9\u001b[0m \u001b[0;34m\u001b[0m\u001b[0m\n\u001b[1;32m     10\u001b[0m \u001b[0;34m\u001b[0m\u001b[0m\n\u001b[0;32m---> 11\u001b[0;31m \u001b[0mx\u001b[0m \u001b[0;34m=\u001b[0m \u001b[0mnp\u001b[0m\u001b[0;34m.\u001b[0m\u001b[0mload\u001b[0m\u001b[0;34m(\u001b[0m\u001b[0mstem\u001b[0m\u001b[0;34m+\u001b[0m\u001b[0;34m'x.npy'\u001b[0m\u001b[0;34m)\u001b[0m\u001b[0;34m\u001b[0m\u001b[0;34m\u001b[0m\u001b[0m\n\u001b[0m\u001b[1;32m     12\u001b[0m \u001b[0my\u001b[0m \u001b[0;34m=\u001b[0m \u001b[0mnp\u001b[0m\u001b[0;34m.\u001b[0m\u001b[0mload\u001b[0m\u001b[0;34m(\u001b[0m\u001b[0mstem\u001b[0m\u001b[0;34m+\u001b[0m\u001b[0;34m'y.npy'\u001b[0m\u001b[0;34m)\u001b[0m\u001b[0;34m\u001b[0m\u001b[0;34m\u001b[0m\u001b[0m\n\u001b[1;32m     13\u001b[0m \u001b[0mt\u001b[0m \u001b[0;34m=\u001b[0m \u001b[0mnp\u001b[0m\u001b[0;34m.\u001b[0m\u001b[0mload\u001b[0m\u001b[0;34m(\u001b[0m\u001b[0mstem\u001b[0m\u001b[0;34m+\u001b[0m\u001b[0;34m't.npy'\u001b[0m\u001b[0;34m)\u001b[0m\u001b[0;34m\u001b[0m\u001b[0;34m\u001b[0m\u001b[0m\n",
      "\u001b[0;31mNameError\u001b[0m: name 'np' is not defined"
     ]
    }
   ],
   "source": [
    "###  Plot full colormaps of the data\n",
    "\n",
    "\n",
    "for i_plt in range( N_plt + 1 ):\n",
    "\n",
    "\n",
    "\n",
    "\n",
    "\n",
    "\n",
    "\n",
    "    # x = np.load(stem+'x.npy')\n",
    "    # y = np.load(stem+'y.npy')\n",
    "    # t = np.load(stem+'t.npy')\n",
    "\n",
    "\n",
    "    U = np.load( stem + 'U/' + 'U_' + str(t_plt) + '.npy' )\n",
    "    V = np.load( stem + 'V/' + 'V_' + str(t_plt) + '.npy' )\n",
    "    W = np.load( stem + 'W/' + 'W_' + str(t_plt) + '.npy' )\n",
    "\n",
    "\n",
    "\n",
    "\n",
    "\n",
    "    # Plot  x-velocity\n",
    "    plt.figure(figsize=(12,6))\n",
    "    plt.pcolormesh(U.T , cmap='coolwarm' , vmin = -0.25 , vmax = 1.35 )\n",
    "\n",
    "    plt.xlabel('x' , fontsize=16)\n",
    "    plt.ylabel('y' , fontsize=16)\n",
    "    ttl_str = 'U(x,y ; t = ' + str(t_plt) + ')'\n",
    "    plt.title(ttl_str , fontsize=16)\n",
    "    plt.xticks(fontsize=14)\n",
    "    plt.yticks(fontsize=14)\n",
    "    plt.colorbar()\n",
    "    plt.savefig('Flowfield-U-' + str(t_plt) + '.png')\n",
    "    # plt.show()\n",
    "\n",
    "\n",
    "    # Plot  y-velocity\n",
    "    plt.figure(figsize=(12,6))\n",
    "    plt.pcolormesh(V.T , cmap='coolwarm' , vmin = -0.75 , vmax = 0.75 )\n",
    "\n",
    "    plt.xlabel('x' , fontsize=16)\n",
    "    plt.ylabel('y' , fontsize=16)\n",
    "    ttl_str = 'V(x,y ; t = ' + str(t_plt) + ')'\n",
    "    plt.title(ttl_str , fontsize=16)\n",
    "    plt.xticks(fontsize=14)\n",
    "    plt.yticks(fontsize=14)\n",
    "    plt.colorbar()\n",
    "    plt.savefig('Flowfield-V-' + str(t_plt) + '.png')\n",
    "    # plt.show()\n",
    "\n",
    "\n",
    "    # Plot  vorticity\n",
    "    plt.figure(figsize=(12,6))\n",
    "    plt.pcolormesh(W.T , cmap='coolwarm' , vmin = -2 , vmax = 2 )\n",
    "\n",
    "    plt.xlabel('x' , fontsize=16)\n",
    "    plt.ylabel('y' , fontsize=16)\n",
    "    ttl_str = 'W(x,y ; t = ' + str(t_plt) + ')'\n",
    "    plt.title(ttl_str , fontsize=16)\n",
    "    plt.xticks(fontsize=14)\n",
    "    plt.yticks(fontsize=14)\n",
    "    plt.colorbar()\n",
    "    plt.savefig('Flowfield-W-' + str(t_plt) + '.png')\n",
    "    # plt.show()\n",
    "\n"
   ]
  },
  {
   "cell_type": "code",
   "execution_count": null,
   "metadata": {},
   "outputs": [],
   "source": []
  }
 ],
 "metadata": {
  "kernelspec": {
   "display_name": "Python 3",
   "language": "python",
   "name": "python3"
  },
  "language_info": {
   "codemirror_mode": {
    "name": "ipython",
    "version": 3
   },
   "file_extension": ".py",
   "mimetype": "text/x-python",
   "name": "python",
   "nbconvert_exporter": "python",
   "pygments_lexer": "ipython3",
   "version": "3.8.3"
  }
 },
 "nbformat": 4,
 "nbformat_minor": 4
}
