{
 "cells": [
  {
   "cell_type": "code",
   "execution_count": null,
   "metadata": {},
   "outputs": [],
   "source": [
    "###########################################################################\n",
    "# This code is adapted from Sam Rudy's code for loading IBPM  data, \n",
    "# published as part of his original work on PDE-FIND\n",
    "# See: https://github.com/snagcliffs/PDE-FIND\n",
    "# and: https://github.com/snagcliffs/PDE-FIND/blob/master/Datasets/von_karman/Loading%20ibpm%20output.ipynb\n",
    "# and:  <<  link to my own copy of \"Sam Rudy's Code for Loading IBPM Data.ipynb\"  >>\n",
    "###########################################################################"
   ]
  },
  {
   "cell_type": "code",
   "execution_count": null,
   "metadata": {},
   "outputs": [],
   "source": [
    "###  Import modules\n",
    "\n",
    "\n",
    "import numpy as np\n",
    "import os\n",
    "import time\n",
    "import matplotlib.pyplot as plt\n",
    "\n"
   ]
  },
  {
   "cell_type": "code",
   "execution_count": null,
   "metadata": {},
   "outputs": [],
   "source": [
    "###  Set the load file\n",
    "\n",
    "\n",
    "data_path = '/Volumes/Backup Hard Drive/Holding Folder/Research/IBPM Simulations/Main Simulations/2022_06_21_Re050_Big_Prd/'\n",
    "# data_path = '/Volumes/Backup Hard Drive/Holding Folder/Research/IBPM Simulations/Main Simulations/2022_06_21_Re062_Big_Prd/'\n",
    "# data_path = '/Volumes/Backup Hard Drive/Holding Folder/Research/IBPM Simulations/Main Simulations/2022_06_21_Re075_Big_Prd/'\n",
    "# data_path = '/Volumes/Backup Hard Drive/Holding Folder/Research/IBPM Simulations/Main Simulations/2022_06_21_Re087_Big_Prd/'\n",
    "# data_path = '/Volumes/Backup Hard Drive/Holding Folder/Research/IBPM Simulations/Main Simulations/2022_06_21_Re100_Big_Prd/'\n",
    "\n",
    "\n",
    "nx = 2700\n",
    "ny = 800\n",
    "\n"
   ]
  },
  {
   "cell_type": "code",
   "execution_count": null,
   "metadata": {},
   "outputs": [],
   "source": [
    "###  Set  loading string\n",
    "\n",
    "\n",
    "save_path = data_path + 'Data/'\n",
    "filenames = sorted([os.path.join(data_path,f) for f in os.listdir(data_path) if f[-3:] == 'plt'])\n",
    "nt = len(filenames)\n",
    "\n"
   ]
  },
  {
   "cell_type": "code",
   "execution_count": null,
   "metadata": {},
   "outputs": [],
   "source": [
    "###  Load the .PLT data and save it as .NPY\n",
    "\n",
    "\n",
    "U = np.zeros(( nx-1 , ny-1 ))\n",
    "V = np.zeros(( nx-1 , ny-1 ))\n",
    "W = np.zeros(( nx-1 , ny-1 ))\n",
    "start = time.time()\n",
    "\n",
    "\n",
    "for it in range( nt ):\n",
    "    print('i  =  ' + str(it) + '  /  ' + str(nt-1))\n",
    "    \n",
    "    \n",
    "    timestep_data = np.genfromtxt(filenames[it], delimiter=' ',skip_header=6)\n",
    "    \n",
    "    for ix in range( nx-1 ):\n",
    "        \n",
    "        for iy in range( ny-1 ):\n",
    "\n",
    "            U[ ix , iy ] = timestep_data[ ix + (nx-1) * iy , 2]\n",
    "            V[ ix , iy ] = timestep_data[ ix + (nx-1) * iy , 3]\n",
    "            W[ ix , iy ] = timestep_data[ ix + (nx-1) * iy , 4]\n",
    "        \n",
    "    np.save( save_path + 'U/U_' + str(it) + '.npy' , U )\n",
    "    np.save( save_path + 'V/V_' + str(it) + '.npy' , V )\n",
    "    np.save( save_path + 'W/W_' + str(it) + '.npy' , W )\n",
    "    \n",
    "#     os.remove(filenames[it])\n",
    "\n",
    "\n",
    "print('\\n\\nFinished!!\\n\\n')\n",
    "\n"
   ]
  },
  {
   "cell_type": "code",
   "execution_count": null,
   "metadata": {},
   "outputs": [],
   "source": [
    "###  Plot full colormaps of the data\n",
    "\n",
    "\n",
    "# Plot  x-velocity\n",
    "plt.figure(figsize=(12,6))\n",
    "plt.pcolormesh(U.T , cmap='coolwarm' )\n",
    "\n",
    "plt.xlabel('x' , fontsize=16)\n",
    "plt.ylabel('y' , fontsize=16)\n",
    "ttl_str = 'U(x,y ; t = ' + str(it) + ')'\n",
    "plt.title(ttl_str , fontsize=16)\n",
    "plt.xticks(fontsize=14)\n",
    "plt.yticks(fontsize=14)\n",
    "plt.colorbar()\n",
    "\n",
    "plt.show()\n",
    "\n",
    "\n",
    "# Plot  y-velocity\n",
    "plt.figure(figsize=(12,6))\n",
    "plt.pcolormesh(V.T , cmap='coolwarm' )\n",
    "\n",
    "plt.xlabel('x' , fontsize=16)\n",
    "plt.ylabel('y' , fontsize=16)\n",
    "ttl_str = 'V(x,y ; t = ' + str(it) + ')'\n",
    "plt.title(ttl_str , fontsize=16)\n",
    "plt.xticks(fontsize=14)\n",
    "plt.yticks(fontsize=14)\n",
    "plt.colorbar()\n",
    "\n",
    "plt.show()\n",
    "\n",
    "\n",
    "# Plot  vorticity\n",
    "plt.figure(figsize=(12,6))\n",
    "plt.pcolormesh(W.T , cmap='coolwarm' )\n",
    "\n",
    "plt.xlabel('x' , fontsize=16)\n",
    "plt.ylabel('y' , fontsize=16)\n",
    "ttl_str = 'W(x,y ; t = ' + str(it) + ')'\n",
    "plt.title(ttl_str , fontsize=16)\n",
    "plt.xticks(fontsize=14)\n",
    "plt.yticks(fontsize=14)\n",
    "plt.colorbar()\n",
    "\n",
    "plt.show()\n",
    "\n"
   ]
  },
  {
   "cell_type": "code",
   "execution_count": null,
   "metadata": {},
   "outputs": [],
   "source": []
  }
 ],
 "metadata": {
  "kernelspec": {
   "display_name": "Python 3",
   "language": "python",
   "name": "python3"
  },
  "language_info": {
   "codemirror_mode": {
    "name": "ipython",
    "version": 3
   },
   "file_extension": ".py",
   "mimetype": "text/x-python",
   "name": "python",
   "nbconvert_exporter": "python",
   "pygments_lexer": "ipython3",
   "version": "3.8.3"
  }
 },
 "nbformat": 4,
 "nbformat_minor": 4
}
