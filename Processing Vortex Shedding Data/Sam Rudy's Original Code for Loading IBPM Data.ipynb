{
 "cells": [
  {
   "cell_type": "code",
   "execution_count": null,
   "metadata": {},
   "outputs": [],
   "source": [
    "\n",
    "\n",
    "import numpy as np\n",
    "import os\n",
    "import time\n",
    "\n",
    "\n",
    "\n"
   ]
  },
  {
   "cell_type": "code",
   "execution_count": null,
   "metadata": {},
   "outputs": [],
   "source": []
  },
  {
   "cell_type": "code",
   "execution_count": null,
   "metadata": {},
   "outputs": [],
   "source": [
    "\n",
    "\n",
    "data_path = './von_karman/'\n",
    "\n",
    "\n"
   ]
  },
  {
   "cell_type": "code",
   "execution_count": null,
   "metadata": {},
   "outputs": [],
   "source": [
    "\n",
    "\n",
    "filenames = sorted([os.path.join(data_path,f) for f in os.listdir(data_path) if f[-3:] == 'plt'])\n",
    "timesteps = len(filenames)\n",
    "\n",
    "U = np.zeros((449,199,timesteps))\n",
    "V = np.zeros((449,199,timesteps))\n",
    "W = np.zeros((449,199,timesteps))\n",
    "start = time.time()\n",
    "\n",
    "for timestep in range(timesteps):\n",
    "    \n",
    "    timestep_data = np.genfromtxt(filenames[timestep], delimiter=' ',skip_header=6)\n",
    "    \n",
    "    for i in range(449):\n",
    "        \n",
    "        for j in range(199):\n",
    "            \n",
    "            U[i,j,timestep] = timestep_data[i+449*j, 2]\n",
    "            V[i,j,timestep] = timestep_data[i+449*j, 3]\n",
    "            W[i,j,timestep] = timestep_data[i+449*j, 4]\n",
    "            \n",
    "    print('\\rTimestep', timestep+1, 'of', timesteps, 'eta:', \\\n",
    "          int((timesteps-timestep-1)*(timestep+1)/(time.time()-start)), end = 's')\n",
    "\n",
    "    "
   ]
  },
  {
   "cell_type": "code",
   "execution_count": null,
   "metadata": {},
   "outputs": [],
   "source": []
  },
  {
   "cell_type": "code",
   "execution_count": null,
   "metadata": {},
   "outputs": [],
   "source": [
    "\n",
    "\n",
    "# plot the data\n",
    "figure(figsize=(15,8))\n",
    "\n",
    "xx, yy = meshgrid(\n",
    "    np.arange(449),\n",
    "    np.arange(199))\n",
    "\n",
    "for j in range(4):\n",
    "    subplot(2,2,j+1)\n",
    "    pcolor(xx,yy,W[:,:,20*j].T,cmap='coolwarm', vmin=-4, vmax=4)\n",
    "\n",
    " "
   ]
  },
  {
   "cell_type": "code",
   "execution_count": null,
   "metadata": {},
   "outputs": [],
   "source": []
  }
 ],
 "metadata": {
  "kernelspec": {
   "display_name": "Python 3",
   "language": "python",
   "name": "python3"
  },
  "language_info": {
   "codemirror_mode": {
    "name": "ipython",
    "version": 3
   },
   "file_extension": ".py",
   "mimetype": "text/x-python",
   "name": "python",
   "nbconvert_exporter": "python",
   "pygments_lexer": "ipython3",
   "version": "3.8.3"
  }
 },
 "nbformat": 4,
 "nbformat_minor": 4
}
